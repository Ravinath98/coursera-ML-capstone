{
    "cells": [
        {
            "cell_type": "markdown",
            "metadata": {},
            "source": "# Data cleaning"
        },
        {
            "cell_type": "code",
            "execution_count": 1,
            "metadata": {},
            "outputs": [
                {
                    "data": {
                        "text/html": "<div>\n<style scoped>\n    .dataframe tbody tr th:only-of-type {\n        vertical-align: middle;\n    }\n\n    .dataframe tbody tr th {\n        vertical-align: top;\n    }\n\n    .dataframe thead th {\n        text-align: right;\n    }\n</style>\n<table border=\"1\" class=\"dataframe\">\n  <thead>\n    <tr style=\"text-align: right;\">\n      <th></th>\n      <th>Loan_ID</th>\n      <th>Gender</th>\n      <th>Married</th>\n      <th>Dependents</th>\n      <th>Education</th>\n      <th>Self_Employed</th>\n      <th>ApplicantIncome</th>\n      <th>CoapplicantIncome</th>\n      <th>LoanAmount</th>\n      <th>Loan_Amount_Term</th>\n      <th>Credit_History</th>\n      <th>Property_Area</th>\n      <th>Loan_Status</th>\n    </tr>\n  </thead>\n  <tbody>\n    <tr>\n      <th>0</th>\n      <td>LP001002</td>\n      <td>Male</td>\n      <td>No</td>\n      <td>0</td>\n      <td>Graduate</td>\n      <td>No</td>\n      <td>5849</td>\n      <td>0.0</td>\n      <td>NaN</td>\n      <td>360.0</td>\n      <td>1.0</td>\n      <td>Urban</td>\n      <td>Y</td>\n    </tr>\n    <tr>\n      <th>1</th>\n      <td>LP001003</td>\n      <td>Male</td>\n      <td>Yes</td>\n      <td>1</td>\n      <td>Graduate</td>\n      <td>No</td>\n      <td>4583</td>\n      <td>1508.0</td>\n      <td>128.0</td>\n      <td>360.0</td>\n      <td>1.0</td>\n      <td>Rural</td>\n      <td>N</td>\n    </tr>\n    <tr>\n      <th>2</th>\n      <td>LP001005</td>\n      <td>Male</td>\n      <td>Yes</td>\n      <td>0</td>\n      <td>Graduate</td>\n      <td>Yes</td>\n      <td>3000</td>\n      <td>0.0</td>\n      <td>66.0</td>\n      <td>360.0</td>\n      <td>1.0</td>\n      <td>Urban</td>\n      <td>Y</td>\n    </tr>\n    <tr>\n      <th>3</th>\n      <td>LP001006</td>\n      <td>Male</td>\n      <td>Yes</td>\n      <td>0</td>\n      <td>Not Graduate</td>\n      <td>No</td>\n      <td>2583</td>\n      <td>2358.0</td>\n      <td>120.0</td>\n      <td>360.0</td>\n      <td>1.0</td>\n      <td>Urban</td>\n      <td>Y</td>\n    </tr>\n    <tr>\n      <th>4</th>\n      <td>LP001008</td>\n      <td>Male</td>\n      <td>No</td>\n      <td>0</td>\n      <td>Graduate</td>\n      <td>No</td>\n      <td>6000</td>\n      <td>0.0</td>\n      <td>141.0</td>\n      <td>360.0</td>\n      <td>1.0</td>\n      <td>Urban</td>\n      <td>Y</td>\n    </tr>\n  </tbody>\n</table>\n</div>",
                        "text/plain": "    Loan_ID Gender Married Dependents     Education Self_Employed  \\\n0  LP001002   Male      No          0      Graduate            No   \n1  LP001003   Male     Yes          1      Graduate            No   \n2  LP001005   Male     Yes          0      Graduate           Yes   \n3  LP001006   Male     Yes          0  Not Graduate            No   \n4  LP001008   Male      No          0      Graduate            No   \n\n   ApplicantIncome  CoapplicantIncome  LoanAmount  Loan_Amount_Term  \\\n0             5849                0.0         NaN             360.0   \n1             4583             1508.0       128.0             360.0   \n2             3000                0.0        66.0             360.0   \n3             2583             2358.0       120.0             360.0   \n4             6000                0.0       141.0             360.0   \n\n   Credit_History Property_Area Loan_Status  \n0             1.0         Urban           Y  \n1             1.0         Rural           N  \n2             1.0         Urban           Y  \n3             1.0         Urban           Y  \n4             1.0         Urban           Y  "
                    },
                    "execution_count": 1,
                    "metadata": {},
                    "output_type": "execute_result"
                }
            ],
            "source": "# The code was removed by Watson Studio for sharing."
        },
        {
            "cell_type": "code",
            "execution_count": 2,
            "metadata": {
                "scrolled": true
            },
            "outputs": [
                {
                    "data": {
                        "text/plain": "(614, 13)"
                    },
                    "execution_count": 2,
                    "metadata": {},
                    "output_type": "execute_result"
                }
            ],
            "source": "#data frame shape\ndf_data_1.shape"
        },
        {
            "cell_type": "code",
            "execution_count": 3,
            "metadata": {},
            "outputs": [],
            "source": "#drop missing values\ndf_data_1=df_data_1.dropna(axis=0) "
        },
        {
            "cell_type": "code",
            "execution_count": 4,
            "metadata": {},
            "outputs": [
                {
                    "data": {
                        "text/plain": "(480, 13)"
                    },
                    "execution_count": 4,
                    "metadata": {},
                    "output_type": "execute_result"
                }
            ],
            "source": "#shape after droping missing values\ndf_data_1.shape"
        },
        {
            "cell_type": "markdown",
            "metadata": {},
            "source": "# k-Nearest Neighbour"
        },
        {
            "cell_type": "code",
            "execution_count": 5,
            "metadata": {},
            "outputs": [],
            "source": "#import libraries\nimport numpy as np\nimport matplotlib.pyplot as plt\nimport numpy as np\nfrom sklearn import preprocessing\n%matplotlib inline"
        },
        {
            "cell_type": "code",
            "execution_count": 6,
            "metadata": {},
            "outputs": [
                {
                    "data": {
                        "text/plain": "Index(['Loan_ID', 'Gender', 'Married', 'Dependents', 'Education',\n       'Self_Employed', 'ApplicantIncome', 'CoapplicantIncome', 'LoanAmount',\n       'Loan_Amount_Term', 'Credit_History', 'Property_Area', 'Loan_Status'],\n      dtype='object')"
                    },
                    "execution_count": 6,
                    "metadata": {},
                    "output_type": "execute_result"
                }
            ],
            "source": "df_data_1.columns"
        },
        {
            "cell_type": "code",
            "execution_count": 7,
            "metadata": {},
            "outputs": [],
            "source": "#define independent variables\nx=df_data_1[['Gender', 'Married', 'Education',\n       'Self_Employed', 'ApplicantIncome', 'CoapplicantIncome', 'LoanAmount',\n       'Loan_Amount_Term', 'Credit_History', 'Property_Area']].values"
        },
        {
            "cell_type": "code",
            "execution_count": 8,
            "metadata": {},
            "outputs": [
                {
                    "data": {
                        "text/plain": "array([[1, 1, 0, 0, 4583, 1508.0, 128.0, 360.0, 1.0, 0],\n       [1, 1, 0, 1, 3000, 0.0, 66.0, 360.0, 1.0, 2],\n       [1, 1, 1, 0, 2583, 2358.0, 120.0, 360.0, 1.0, 2],\n       [1, 0, 0, 0, 6000, 0.0, 141.0, 360.0, 1.0, 2],\n       [1, 1, 0, 1, 5417, 4196.0, 267.0, 360.0, 1.0, 2]], dtype=object)"
                    },
                    "execution_count": 8,
                    "metadata": {},
                    "output_type": "execute_result"
                }
            ],
            "source": "#convert the categorical variables to numeric\n\nle_Gender = preprocessing.LabelEncoder()\nle_Gender.fit(['Male','Female'])\nx[:,0] = le_Gender.transform(x[:,0]) \n\nle_Married = preprocessing.LabelEncoder()\nle_Married.fit(['Yes','No'])\nx[:,1] = le_Married.transform(x[:,1])\n\nle_Education = preprocessing.LabelEncoder()\nle_Education.fit(['Graduate','Not Graduate'])\nx[:,2] = le_Education.transform(x[:,2])\n\nle_Self_Employed = preprocessing.LabelEncoder()\nle_Self_Employed.fit(['Yes','No'])\nx[:,3] = le_Self_Employed.transform(x[:,3])\n\nle_Property_Area = preprocessing.LabelEncoder() \nle_Property_Area.fit(['Urban','Rural','Semiurban'])\nx[:,9] = le_Property_Area.transform(x[:,9])\n\nx[0:5]"
        },
        {
            "cell_type": "code",
            "execution_count": 9,
            "metadata": {},
            "outputs": [
                {
                    "data": {
                        "text/plain": "array(['N', 'Y', 'Y', 'Y', 'Y'], dtype=object)"
                    },
                    "execution_count": 9,
                    "metadata": {},
                    "output_type": "execute_result"
                }
            ],
            "source": "#dependant variable\ny = df_data_1['Loan_Status'].values\ny[0:5]"
        },
        {
            "cell_type": "code",
            "execution_count": 10,
            "metadata": {},
            "outputs": [
                {
                    "data": {
                        "text/plain": "array([[ 0.46719815,  0.73716237, -0.50325312, -0.3992747 , -0.13796959,\n        -0.02795204, -0.20808917,  0.27554157,  0.41319694, -1.31886834],\n       [ 0.46719815,  0.73716237, -0.50325312,  2.50454133, -0.4175358 ,\n        -0.604633  , -0.97900085,  0.27554157,  0.41319694,  1.25977445],\n       [ 0.46719815,  0.73716237,  1.98707162, -0.3992747 , -0.49118022,\n         0.29710022, -0.30756164,  0.27554157,  0.41319694,  1.25977445],\n       [ 0.46719815, -1.35655324, -0.50325312, -0.3992747 ,  0.11228014,\n        -0.604633  , -0.04644639,  0.27554157,  0.41319694,  1.25977445],\n       [ 0.46719815,  0.73716237, -0.50325312,  2.50454133,  0.00931924,\n         0.99997795,  1.52024509,  0.27554157,  0.41319694,  1.25977445]])"
                    },
                    "execution_count": 10,
                    "metadata": {},
                    "output_type": "execute_result"
                }
            ],
            "source": "#Normalize data\nx = preprocessing.StandardScaler().fit(x).transform(x.astype(int))\nx[0:5]"
        },
        {
            "cell_type": "code",
            "execution_count": 11,
            "metadata": {},
            "outputs": [],
            "source": "#Train Test Split\nfrom sklearn.model_selection import train_test_split\nx_train, x_test, y_train, y_test = train_test_split( x, y, test_size=0.2, random_state=4)"
        },
        {
            "cell_type": "code",
            "execution_count": 12,
            "metadata": {},
            "outputs": [],
            "source": "#classifier\nfrom sklearn.neighbors import KNeighborsClassifier"
        },
        {
            "cell_type": "code",
            "execution_count": 13,
            "metadata": {},
            "outputs": [
                {
                    "name": "stdout",
                    "output_type": "stream",
                    "text": "Best accuracy:  0.7604166666666666 k= 7\n"
                }
            ],
            "source": "#get the best k value\nfrom sklearn import metrics\nKs = 10\nmean_acc = np.zeros((Ks-1))\n\nfor n in range(1,Ks):\n    \n    #Train Model and Predict  \n    neigh = KNeighborsClassifier(n_neighbors = n).fit(x_train,y_train)\n    yhat=neigh.predict(x_test)\n    mean_acc[n-1] = metrics.accuracy_score(y_test, yhat)\n\nprint( \"Best accuracy: \", mean_acc.max(), \"k=\", mean_acc.argmax()+1) "
        },
        {
            "cell_type": "code",
            "execution_count": 14,
            "metadata": {},
            "outputs": [
                {
                    "data": {
                        "text/plain": "KNeighborsClassifier(n_neighbors=7)"
                    },
                    "execution_count": 14,
                    "metadata": {},
                    "output_type": "execute_result"
                }
            ],
            "source": "#Training\nneigh = KNeighborsClassifier(n_neighbors = mean_acc.argmax()+1).fit(x_train,y_train)\nneigh"
        },
        {
            "cell_type": "code",
            "execution_count": 15,
            "metadata": {},
            "outputs": [
                {
                    "data": {
                        "text/plain": "array(['Y', 'Y', 'Y', 'Y', 'Y'], dtype=object)"
                    },
                    "execution_count": 15,
                    "metadata": {},
                    "output_type": "execute_result"
                }
            ],
            "source": "#predicting\nyhat = neigh.predict(x_test)\nyhat[0:5]"
        },
        {
            "cell_type": "markdown",
            "metadata": {},
            "source": "# Decision Tree"
        },
        {
            "cell_type": "code",
            "execution_count": 16,
            "metadata": {},
            "outputs": [
                {
                    "data": {
                        "text/plain": "DecisionTreeClassifier(criterion='entropy', max_depth=5, splitter='random')"
                    },
                    "execution_count": 16,
                    "metadata": {},
                    "output_type": "execute_result"
                }
            ],
            "source": "#Modeling\nfrom sklearn.tree import DecisionTreeClassifier\nloanTree = DecisionTreeClassifier(criterion=\"entropy\", max_depth = 5,splitter='random')\nloanTree"
        },
        {
            "cell_type": "code",
            "execution_count": 17,
            "metadata": {},
            "outputs": [
                {
                    "data": {
                        "text/plain": "DecisionTreeClassifier(criterion='entropy', max_depth=5, splitter='random')"
                    },
                    "execution_count": 17,
                    "metadata": {},
                    "output_type": "execute_result"
                }
            ],
            "source": "#Train the model\nloanTree.fit(x_train,y_train)"
        },
        {
            "cell_type": "code",
            "execution_count": 18,
            "metadata": {},
            "outputs": [],
            "source": "#Predict\npredTree=loanTree.predict(x_test)\n"
        },
        {
            "cell_type": "code",
            "execution_count": 19,
            "metadata": {},
            "outputs": [
                {
                    "name": "stdout",
                    "output_type": "stream",
                    "text": "Decision Trees's Accuracy:  0.7395833333333334\n"
                }
            ],
            "source": "#Evaluation /Accuracy\nprint(\"Decision Trees's Accuracy: \", metrics.accuracy_score(y_test, predTree))"
        },
        {
            "cell_type": "markdown",
            "metadata": {},
            "source": "# Support Vector Machine"
        },
        {
            "cell_type": "code",
            "execution_count": 20,
            "metadata": {},
            "outputs": [],
            "source": "#additional libraries\nimport pylab as pl\nimport scipy.optimize as opt\nfrom sklearn import svm\nfrom sklearn.metrics import f1_score\nfrom sklearn.metrics import jaccard_score"
        },
        {
            "cell_type": "code",
            "execution_count": 21,
            "metadata": {},
            "outputs": [
                {
                    "data": {
                        "text/plain": "SVC()"
                    },
                    "execution_count": 21,
                    "metadata": {},
                    "output_type": "execute_result"
                }
            ],
            "source": "#Model /Train\nclf = svm.SVC(kernel='rbf')\nclf.fit(x_train, y_train)\n"
        },
        {
            "cell_type": "code",
            "execution_count": 22,
            "metadata": {},
            "outputs": [],
            "source": "#Predict\nyhat = clf.predict(x_test)"
        },
        {
            "cell_type": "code",
            "execution_count": 23,
            "metadata": {},
            "outputs": [
                {
                    "data": {
                        "text/plain": "0.7228021978021978"
                    },
                    "execution_count": 23,
                    "metadata": {},
                    "output_type": "execute_result"
                }
            ],
            "source": "#Evaluation\n#F1 Score\nf1_score(y_test, yhat, average='weighted') "
        },
        {
            "cell_type": "code",
            "execution_count": 24,
            "metadata": {},
            "outputs": [
                {
                    "data": {
                        "text/plain": "0.7073170731707317"
                    },
                    "execution_count": 24,
                    "metadata": {},
                    "output_type": "execute_result"
                }
            ],
            "source": "#Jaccard index\njaccard_score(y_test, yhat,pos_label='Y')"
        },
        {
            "cell_type": "markdown",
            "metadata": {},
            "source": "# Logistic Regression"
        },
        {
            "cell_type": "code",
            "execution_count": 25,
            "metadata": {},
            "outputs": [
                {
                    "data": {
                        "text/plain": "LogisticRegression(C=0.01, solver='liblinear')"
                    },
                    "execution_count": 25,
                    "metadata": {},
                    "output_type": "execute_result"
                }
            ],
            "source": "#Modeling /Training\nfrom sklearn.linear_model import LogisticRegression\nfrom sklearn.metrics import confusion_matrix\nLR = LogisticRegression(C=0.01, solver='liblinear').fit(x_train,y_train)\nLR"
        },
        {
            "cell_type": "code",
            "execution_count": 26,
            "metadata": {},
            "outputs": [
                {
                    "data": {
                        "text/plain": "array(['Y', 'Y', 'Y', 'Y', 'Y', 'Y', 'Y', 'N', 'Y', 'Y', 'N', 'Y', 'Y',\n       'Y', 'Y', 'Y', 'Y', 'Y', 'Y', 'Y', 'N', 'Y', 'Y', 'Y', 'N', 'N',\n       'N', 'Y', 'Y', 'Y', 'Y', 'Y', 'N', 'Y', 'N', 'N', 'Y', 'Y', 'Y',\n       'Y', 'Y', 'Y', 'Y', 'Y', 'Y', 'Y', 'Y', 'Y', 'Y', 'Y', 'Y', 'Y',\n       'Y', 'Y', 'N', 'Y', 'Y', 'Y', 'N', 'Y', 'Y', 'Y', 'Y', 'Y', 'Y',\n       'Y', 'Y', 'Y', 'Y', 'Y', 'Y', 'Y', 'N', 'Y', 'N', 'Y', 'Y', 'Y',\n       'Y', 'Y', 'Y', 'Y', 'Y', 'Y', 'Y', 'Y', 'Y', 'N', 'Y', 'Y', 'Y',\n       'N', 'Y', 'Y', 'Y', 'Y'], dtype=object)"
                    },
                    "execution_count": 26,
                    "metadata": {},
                    "output_type": "execute_result"
                }
            ],
            "source": "#predict\nyhat = LR.predict(x_test)\nyhat"
        },
        {
            "cell_type": "code",
            "execution_count": 27,
            "metadata": {},
            "outputs": [
                {
                    "data": {
                        "text/plain": "0.7108433734939759"
                    },
                    "execution_count": 27,
                    "metadata": {},
                    "output_type": "execute_result"
                }
            ],
            "source": "#Evaluation\n#jaccard score\njaccard_score(y_test, yhat,pos_label='Y')"
        },
        {
            "cell_type": "code",
            "execution_count": 28,
            "metadata": {},
            "outputs": [
                {
                    "name": "stdout",
                    "output_type": "stream",
                    "text": "              precision    recall  f1-score   support\n\n           N       0.87      0.37      0.52        35\n           Y       0.73      0.97      0.83        61\n\n    accuracy                           0.75        96\n   macro avg       0.80      0.67      0.68        96\nweighted avg       0.78      0.75      0.72        96\n\n"
                }
            ],
            "source": "from sklearn.metrics import classification_report, confusion_matrix\nprint (classification_report(y_test, yhat))"
        },
        {
            "cell_type": "code",
            "execution_count": 29,
            "metadata": {},
            "outputs": [
                {
                    "data": {
                        "text/plain": "array([[0.41592549, 0.58407451],\n       [0.37317817, 0.62682183],\n       [0.32784465, 0.67215535],\n       [0.29057224, 0.70942776],\n       [0.30958605, 0.69041395],\n       [0.37648381, 0.62351619],\n       [0.34117181, 0.65882819],\n       [0.68344999, 0.31655001],\n       [0.40094636, 0.59905364],\n       [0.32931564, 0.67068436],\n       [0.73273543, 0.26726457],\n       [0.38766919, 0.61233081],\n       [0.36255789, 0.63744211],\n       [0.42617206, 0.57382794],\n       [0.32204731, 0.67795269],\n       [0.35156333, 0.64843667],\n       [0.33344835, 0.66655165],\n       [0.35179192, 0.64820808],\n       [0.34770961, 0.65229039],\n       [0.36182791, 0.63817209],\n       [0.72121036, 0.27878964],\n       [0.3210639 , 0.6789361 ],\n       [0.49424908, 0.50575092],\n       [0.41558435, 0.58441565],\n       [0.67371202, 0.32628798],\n       [0.64431185, 0.35568815],\n       [0.68429953, 0.31570047],\n       [0.4057178 , 0.5942822 ],\n       [0.38209901, 0.61790099],\n       [0.34796599, 0.65203401],\n       [0.38523422, 0.61476578],\n       [0.31217038, 0.68782962],\n       [0.72672055, 0.27327945],\n       [0.3365723 , 0.6634277 ],\n       [0.70647355, 0.29352645],\n       [0.71023379, 0.28976621],\n       [0.33952449, 0.66047551],\n       [0.32280878, 0.67719122],\n       [0.3993708 , 0.6006292 ],\n       [0.32997844, 0.67002156],\n       [0.35174588, 0.64825412],\n       [0.35615341, 0.64384659],\n       [0.3875388 , 0.6124612 ],\n       [0.37828848, 0.62171152],\n       [0.42031374, 0.57968626],\n       [0.30964865, 0.69035135],\n       [0.33896646, 0.66103354],\n       [0.36327756, 0.63672244],\n       [0.4178143 , 0.5821857 ],\n       [0.38368793, 0.61631207],\n       [0.37268896, 0.62731104],\n       [0.33608708, 0.66391292],\n       [0.29368683, 0.70631317],\n       [0.3325316 , 0.6674684 ],\n       [0.77535807, 0.22464193],\n       [0.33357603, 0.66642397],\n       [0.35592555, 0.64407445],\n       [0.32386571, 0.67613429],\n       [0.65951158, 0.34048842],\n       [0.36873562, 0.63126438],\n       [0.33418728, 0.66581272],\n       [0.34582747, 0.65417253],\n       [0.43947113, 0.56052887],\n       [0.33145626, 0.66854374],\n       [0.32502996, 0.67497004],\n       [0.34465689, 0.65534311],\n       [0.36832985, 0.63167015],\n       [0.35907489, 0.64092511],\n       [0.37502921, 0.62497079],\n       [0.35130292, 0.64869708],\n       [0.31717874, 0.68282126],\n       [0.38222574, 0.61777426],\n       [0.63247148, 0.36752852],\n       [0.37865249, 0.62134751],\n       [0.67612153, 0.32387847],\n       [0.38420566, 0.61579434],\n       [0.39397459, 0.60602541],\n       [0.3730862 , 0.6269138 ],\n       [0.33132001, 0.66867999],\n       [0.29683647, 0.70316353],\n       [0.38109224, 0.61890776],\n       [0.33477784, 0.66522216],\n       [0.39139791, 0.60860209],\n       [0.32289672, 0.67710328],\n       [0.37922495, 0.62077505],\n       [0.37823152, 0.62176848],\n       [0.32560023, 0.67439977],\n       [0.6460206 , 0.3539794 ],\n       [0.33802001, 0.66197999],\n       [0.33159055, 0.66840945],\n       [0.35651776, 0.64348224],\n       [0.75494605, 0.24505395],\n       [0.30756465, 0.69243535],\n       [0.34725022, 0.65274978],\n       [0.3569033 , 0.6430967 ],\n       [0.40374562, 0.59625438]])"
                    },
                    "execution_count": 29,
                    "metadata": {},
                    "output_type": "execute_result"
                }
            ],
            "source": "yhat_prob = LR.predict_proba(x_test)\nyhat_prob"
        },
        {
            "cell_type": "code",
            "execution_count": 30,
            "metadata": {},
            "outputs": [
                {
                    "data": {
                        "text/plain": "0.5747608868889754"
                    },
                    "execution_count": 30,
                    "metadata": {},
                    "output_type": "execute_result"
                }
            ],
            "source": "#log loss\nfrom sklearn.metrics import log_loss\nlog_loss(y_test, yhat_prob)"
        }
    ],
    "metadata": {
        "kernelspec": {
            "display_name": "Python 3.8",
            "language": "python",
            "name": "python3"
        },
        "language_info": {
            "codemirror_mode": {
                "name": "ipython",
                "version": 3
            },
            "file_extension": ".py",
            "mimetype": "text/x-python",
            "name": "python",
            "nbconvert_exporter": "python",
            "pygments_lexer": "ipython3",
            "version": "3.8.11"
        }
    },
    "nbformat": 4,
    "nbformat_minor": 1
}